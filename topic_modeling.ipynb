{
 "cells": [
  {
   "cell_type": "code",
   "execution_count": 1,
   "metadata": {
    "ExecuteTime": {
     "end_time": "2018-08-31T00:08:53.780704Z",
     "start_time": "2018-08-31T00:08:48.940836Z"
    }
   },
   "outputs": [],
   "source": [
    "from tqdm import tqdm, tqdm_notebook\n",
    "import pickle\n",
    "\n",
    "import pandas as pd\n",
    "import numpy as np\n",
    "\n",
    "import spacy\n",
    "from gensim.models import Phrases\n",
    "from gensim import models,corpora\n",
    "\n",
    "from pathlib import Path\n",
    "from multiprocessing import Pool\n",
    "\n",
    "import matplotlib.pyplot as plt\n",
    "import seaborn as sns\n",
    "\n",
    "from sklearn.model_selection import train_test_split"
   ]
  },
  {
   "cell_type": "code",
   "execution_count": 3,
   "metadata": {
    "ExecuteTime": {
     "end_time": "2018-08-31T00:09:15.723088Z",
     "start_time": "2018-08-31T00:09:15.717538Z"
    }
   },
   "outputs": [
    {
     "data": {
      "text/plain": [
       "[PosixPath('data/train.tsv'),\n",
       " PosixPath('data/test.tsv'),\n",
       " PosixPath('data/sample_submission.csv.7z')]"
      ]
     },
     "execution_count": 3,
     "metadata": {},
     "output_type": "execute_result"
    }
   ],
   "source": [
    "PATH = Path('data/')\n",
    "list(PATH.iterdir())"
   ]
  },
  {
   "cell_type": "code",
   "execution_count": 4,
   "metadata": {
    "ExecuteTime": {
     "end_time": "2018-08-31T00:09:34.934909Z",
     "start_time": "2018-08-31T00:09:29.393888Z"
    }
   },
   "outputs": [],
   "source": [
    "train_df = pd.read_csv(PATH/'train.tsv',sep = '\\t')"
   ]
  },
  {
   "cell_type": "markdown",
   "metadata": {
    "ExecuteTime": {
     "end_time": "2018-08-31T00:09:52.345725Z",
     "start_time": "2018-08-31T00:09:52.342819Z"
    }
   },
   "source": [
    "## Processing Descriptions"
   ]
  },
  {
   "cell_type": "code",
   "execution_count": 5,
   "metadata": {
    "ExecuteTime": {
     "end_time": "2018-08-31T00:09:42.640400Z",
     "start_time": "2018-08-31T00:09:41.501583Z"
    }
   },
   "outputs": [],
   "source": [
    "nlp = spacy.load('en')"
   ]
  },
  {
   "cell_type": "code",
   "execution_count": 23,
   "metadata": {
    "ExecuteTime": {
     "end_time": "2018-08-31T00:36:21.102447Z",
     "start_time": "2018-08-31T00:36:21.085517Z"
    }
   },
   "outputs": [],
   "source": [
    "def tokenize_text(df_col):\n",
    "    text_corpus = df_col.apply(lambda x: str(x).lower()).values\n",
    "    removal=['ADV', 'PRON', 'CCONJ', 'PUNCT', 'PART', 'DET',\n",
    "             'ADP','SPACE','VERB']\n",
    "    text_out_final = []\n",
    "\n",
    "    for review in tqdm_notebook(nlp.pipe(text_corpus, n_threads=8, batch_size=1000),\n",
    "                                desc='Tokenizing'):\n",
    "        text_out = []\n",
    "        for token in review:\n",
    "            if token.pos_ not in removal and token.is_punct == False and token.is_stop == False:\n",
    "                lemma = token.lemma_\n",
    "                if lemma != '-PRON-':\n",
    "                    text_out.append(lemma)\n",
    "\n",
    "        text_out_final.append(text_out)\n",
    "    return text_out_final"
   ]
  },
  {
   "cell_type": "code",
   "execution_count": 24,
   "metadata": {
    "ExecuteTime": {
     "end_time": "2018-08-31T00:37:22.664930Z",
     "start_time": "2018-08-31T00:36:22.114450Z"
    }
   },
   "outputs": [
    {
     "data": {
      "application/vnd.jupyter.widget-view+json": {
       "model_id": "25fc7c49267f4358a14c0a73f714d362",
       "version_major": 2,
       "version_minor": 0
      },
      "text/html": [
       "<p>Failed to display Jupyter Widget of type <code>HBox</code>.</p>\n",
       "<p>\n",
       "  If you're reading this message in the Jupyter Notebook or JupyterLab Notebook, it may mean\n",
       "  that the widgets JavaScript is still loading. If this message persists, it\n",
       "  likely means that the widgets JavaScript library is either not installed or\n",
       "  not enabled. See the <a href=\"https://ipywidgets.readthedocs.io/en/stable/user_install.html\">Jupyter\n",
       "  Widgets Documentation</a> for setup instructions.\n",
       "</p>\n",
       "<p>\n",
       "  If you're reading this message in another frontend (for example, a static\n",
       "  rendering on GitHub or <a href=\"https://nbviewer.jupyter.org/\">NBViewer</a>),\n",
       "  it may mean that your frontend doesn't currently support widgets.\n",
       "</p>\n"
      ],
      "text/plain": [
       "HBox(children=(IntProgress(value=1, bar_style='info', description='Tokenizing', max=1), HTML(value='')))"
      ]
     },
     "metadata": {},
     "output_type": "display_data"
    },
    {
     "ename": "KeyboardInterrupt",
     "evalue": "",
     "output_type": "error",
     "traceback": [
      "\u001b[0;31m---------------------------------------------------------------------------\u001b[0m",
      "\u001b[0;31mKeyboardInterrupt\u001b[0m                         Traceback (most recent call last)",
      "\u001b[0;32m<ipython-input-24-7a593cf503c6>\u001b[0m in \u001b[0;36m<module>\u001b[0;34m()\u001b[0m\n\u001b[0;32m----> 1\u001b[0;31m \u001b[0mtokenized_text\u001b[0m \u001b[0;34m=\u001b[0m \u001b[0mtokenize_text\u001b[0m\u001b[0;34m(\u001b[0m\u001b[0mtrain_df\u001b[0m\u001b[0;34m[\u001b[0m\u001b[0;34m'item_description'\u001b[0m\u001b[0;34m]\u001b[0m\u001b[0;34m)\u001b[0m\u001b[0;34m\u001b[0m\u001b[0m\n\u001b[0m",
      "\u001b[0;32m<ipython-input-23-e2558393372c>\u001b[0m in \u001b[0;36mtokenize_text\u001b[0;34m(df_col)\u001b[0m\n\u001b[1;32m      6\u001b[0m \u001b[0;34m\u001b[0m\u001b[0m\n\u001b[1;32m      7\u001b[0m     for review in tqdm_notebook(nlp.pipe(text_corpus, n_threads=8, batch_size=1000),\n\u001b[0;32m----> 8\u001b[0;31m                                 desc='Tokenizing'):\n\u001b[0m\u001b[1;32m      9\u001b[0m         \u001b[0mtext_out\u001b[0m \u001b[0;34m=\u001b[0m \u001b[0;34m[\u001b[0m\u001b[0;34m]\u001b[0m\u001b[0;34m\u001b[0m\u001b[0m\n\u001b[1;32m     10\u001b[0m         \u001b[0;32mfor\u001b[0m \u001b[0mtoken\u001b[0m \u001b[0;32min\u001b[0m \u001b[0mreview\u001b[0m\u001b[0;34m:\u001b[0m\u001b[0;34m\u001b[0m\u001b[0m\n",
      "\u001b[0;32m~/anaconda/envs/py36/lib/python3.6/site-packages/tqdm/_tqdm_notebook.py\u001b[0m in \u001b[0;36m__iter__\u001b[0;34m(self, *args, **kwargs)\u001b[0m\n\u001b[1;32m    183\u001b[0m     \u001b[0;32mdef\u001b[0m \u001b[0m__iter__\u001b[0m\u001b[0;34m(\u001b[0m\u001b[0mself\u001b[0m\u001b[0;34m,\u001b[0m \u001b[0;34m*\u001b[0m\u001b[0margs\u001b[0m\u001b[0;34m,\u001b[0m \u001b[0;34m**\u001b[0m\u001b[0mkwargs\u001b[0m\u001b[0;34m)\u001b[0m\u001b[0;34m:\u001b[0m\u001b[0;34m\u001b[0m\u001b[0m\n\u001b[1;32m    184\u001b[0m         \u001b[0;32mtry\u001b[0m\u001b[0;34m:\u001b[0m\u001b[0;34m\u001b[0m\u001b[0m\n\u001b[0;32m--> 185\u001b[0;31m             \u001b[0;32mfor\u001b[0m \u001b[0mobj\u001b[0m \u001b[0;32min\u001b[0m \u001b[0msuper\u001b[0m\u001b[0;34m(\u001b[0m\u001b[0mtqdm_notebook\u001b[0m\u001b[0;34m,\u001b[0m \u001b[0mself\u001b[0m\u001b[0;34m)\u001b[0m\u001b[0;34m.\u001b[0m\u001b[0m__iter__\u001b[0m\u001b[0;34m(\u001b[0m\u001b[0;34m*\u001b[0m\u001b[0margs\u001b[0m\u001b[0;34m,\u001b[0m \u001b[0;34m**\u001b[0m\u001b[0mkwargs\u001b[0m\u001b[0;34m)\u001b[0m\u001b[0;34m:\u001b[0m\u001b[0;34m\u001b[0m\u001b[0m\n\u001b[0m\u001b[1;32m    186\u001b[0m                 \u001b[0;31m# return super(tqdm...) will not catch exception\u001b[0m\u001b[0;34m\u001b[0m\u001b[0;34m\u001b[0m\u001b[0m\n\u001b[1;32m    187\u001b[0m                 \u001b[0;32myield\u001b[0m \u001b[0mobj\u001b[0m\u001b[0;34m\u001b[0m\u001b[0m\n",
      "\u001b[0;32m~/anaconda/envs/py36/lib/python3.6/site-packages/tqdm/_tqdm.py\u001b[0m in \u001b[0;36m__iter__\u001b[0;34m(self)\u001b[0m\n\u001b[1;32m    953\u001b[0m \"\"\", fp_write=getattr(self.fp, 'write', sys.stderr.write))\n\u001b[1;32m    954\u001b[0m \u001b[0;34m\u001b[0m\u001b[0m\n\u001b[0;32m--> 955\u001b[0;31m             \u001b[0;32mfor\u001b[0m \u001b[0mobj\u001b[0m \u001b[0;32min\u001b[0m \u001b[0miterable\u001b[0m\u001b[0;34m:\u001b[0m\u001b[0;34m\u001b[0m\u001b[0m\n\u001b[0m\u001b[1;32m    956\u001b[0m                 \u001b[0;32myield\u001b[0m \u001b[0mobj\u001b[0m\u001b[0;34m\u001b[0m\u001b[0m\n\u001b[1;32m    957\u001b[0m                 \u001b[0;31m# Update and possibly print the progressbar.\u001b[0m\u001b[0;34m\u001b[0m\u001b[0;34m\u001b[0m\u001b[0m\n",
      "\u001b[0;32m~/anaconda/envs/py36/lib/python3.6/site-packages/spacy/language.py\u001b[0m in \u001b[0;36mpipe\u001b[0;34m(self, texts, as_tuples, n_threads, batch_size, disable, cleanup)\u001b[0m\n\u001b[1;32m    576\u001b[0m         \u001b[0moriginal_strings_data\u001b[0m \u001b[0;34m=\u001b[0m \u001b[0;32mNone\u001b[0m\u001b[0;34m\u001b[0m\u001b[0m\n\u001b[1;32m    577\u001b[0m         \u001b[0mnr_seen\u001b[0m \u001b[0;34m=\u001b[0m \u001b[0;36m0\u001b[0m\u001b[0;34m\u001b[0m\u001b[0m\n\u001b[0;32m--> 578\u001b[0;31m         \u001b[0;32mfor\u001b[0m \u001b[0mdoc\u001b[0m \u001b[0;32min\u001b[0m \u001b[0mdocs\u001b[0m\u001b[0;34m:\u001b[0m\u001b[0;34m\u001b[0m\u001b[0m\n\u001b[0m\u001b[1;32m    579\u001b[0m             \u001b[0;32myield\u001b[0m \u001b[0mdoc\u001b[0m\u001b[0;34m\u001b[0m\u001b[0m\n\u001b[1;32m    580\u001b[0m             \u001b[0;32mif\u001b[0m \u001b[0mcleanup\u001b[0m\u001b[0;34m:\u001b[0m\u001b[0;34m\u001b[0m\u001b[0m\n",
      "\u001b[0;32mnn_parser.pyx\u001b[0m in \u001b[0;36mpipe\u001b[0;34m()\u001b[0m\n",
      "\u001b[0;32m~/anaconda/envs/py36/lib/python3.6/site-packages/cytoolz/itertoolz.pyx\u001b[0m in \u001b[0;36mcytoolz.itertoolz.partition_all.__next__ (cytoolz/itertoolz.c:14538)\u001b[0;34m()\u001b[0m\n",
      "\u001b[0;32mnn_parser.pyx\u001b[0m in \u001b[0;36mpipe\u001b[0;34m()\u001b[0m\n",
      "\u001b[0;32mnn_parser.pyx\u001b[0m in \u001b[0;36mspacy.syntax.nn_parser.Parser.parse_batch\u001b[0;34m()\u001b[0m\n",
      "\u001b[0;32m~/anaconda/envs/py36/lib/python3.6/site-packages/spacy/util.py\u001b[0m in \u001b[0;36mget_cuda_stream\u001b[0;34m(require)\u001b[0m\n\u001b[1;32m    235\u001b[0m \u001b[0;34m\u001b[0m\u001b[0m\n\u001b[1;32m    236\u001b[0m \u001b[0;34m\u001b[0m\u001b[0m\n\u001b[0;32m--> 237\u001b[0;31m \u001b[0;32mdef\u001b[0m \u001b[0mget_cuda_stream\u001b[0m\u001b[0;34m(\u001b[0m\u001b[0mrequire\u001b[0m\u001b[0;34m=\u001b[0m\u001b[0;32mFalse\u001b[0m\u001b[0;34m)\u001b[0m\u001b[0;34m:\u001b[0m\u001b[0;34m\u001b[0m\u001b[0m\n\u001b[0m\u001b[1;32m    238\u001b[0m     \u001b[0;32mreturn\u001b[0m \u001b[0mCudaStream\u001b[0m\u001b[0;34m(\u001b[0m\u001b[0;34m)\u001b[0m \u001b[0;32mif\u001b[0m \u001b[0mCudaStream\u001b[0m \u001b[0;32mis\u001b[0m \u001b[0;32mnot\u001b[0m \u001b[0;32mNone\u001b[0m \u001b[0;32melse\u001b[0m \u001b[0;32mNone\u001b[0m\u001b[0;34m\u001b[0m\u001b[0m\n\u001b[1;32m    239\u001b[0m \u001b[0;34m\u001b[0m\u001b[0m\n",
      "\u001b[0;31mKeyboardInterrupt\u001b[0m: "
     ]
    }
   ],
   "source": [
    "tokenized_text = tokenize_text(train_df['item_description'])"
   ]
  },
  {
   "cell_type": "code",
   "execution_count": 14,
   "metadata": {
    "ExecuteTime": {
     "end_time": "2018-08-31T00:29:44.553822Z",
     "start_time": "2018-08-31T00:29:44.518391Z"
    }
   },
   "outputs": [
    {
     "data": {
      "text/html": [
       "<div>\n",
       "<style scoped>\n",
       "    .dataframe tbody tr th:only-of-type {\n",
       "        vertical-align: middle;\n",
       "    }\n",
       "\n",
       "    .dataframe tbody tr th {\n",
       "        vertical-align: top;\n",
       "    }\n",
       "\n",
       "    .dataframe thead th {\n",
       "        text-align: right;\n",
       "    }\n",
       "</style>\n",
       "<table border=\"1\" class=\"dataframe\">\n",
       "  <thead>\n",
       "    <tr style=\"text-align: right;\">\n",
       "      <th></th>\n",
       "      <th>item_description</th>\n",
       "    </tr>\n",
       "  </thead>\n",
       "  <tbody>\n",
       "    <tr>\n",
       "      <th>0</th>\n",
       "      <td>No description yet</td>\n",
       "    </tr>\n",
       "    <tr>\n",
       "      <th>1</th>\n",
       "      <td>This keyboard is in great condition and works ...</td>\n",
       "    </tr>\n",
       "    <tr>\n",
       "      <th>2</th>\n",
       "      <td>Adorable top with a hint of lace and a key hol...</td>\n",
       "    </tr>\n",
       "    <tr>\n",
       "      <th>3</th>\n",
       "      <td>New with tags. Leather horses. Retail for [rm]...</td>\n",
       "    </tr>\n",
       "    <tr>\n",
       "      <th>4</th>\n",
       "      <td>Complete with certificate of authenticity</td>\n",
       "    </tr>\n",
       "    <tr>\n",
       "      <th>5</th>\n",
       "      <td>Banana republic bottoms, Candies skirt with ma...</td>\n",
       "    </tr>\n",
       "    <tr>\n",
       "      <th>6</th>\n",
       "      <td>Size small but straps slightly shortened to fi...</td>\n",
       "    </tr>\n",
       "    <tr>\n",
       "      <th>7</th>\n",
       "      <td>You get three pairs of Sophie cheer shorts siz...</td>\n",
       "    </tr>\n",
       "    <tr>\n",
       "      <th>8</th>\n",
       "      <td>Girls Size small Plus green. Three shorts total.</td>\n",
       "    </tr>\n",
       "    <tr>\n",
       "      <th>9</th>\n",
       "      <td>I realized his pants are on backwards after th...</td>\n",
       "    </tr>\n",
       "    <tr>\n",
       "      <th>10</th>\n",
       "      <td>0.25 oz Full size is 1oz for [rm] in Sephora</td>\n",
       "    </tr>\n",
       "    <tr>\n",
       "      <th>11</th>\n",
       "      <td>(5) new vs pink body mists (2.5 oz each) Fresh...</td>\n",
       "    </tr>\n",
       "    <tr>\n",
       "      <th>12</th>\n",
       "      <td>Xl, great condition</td>\n",
       "    </tr>\n",
       "    <tr>\n",
       "      <th>13</th>\n",
       "      <td>No description yet</td>\n",
       "    </tr>\n",
       "    <tr>\n",
       "      <th>14</th>\n",
       "      <td>Authentic. Suede fringe boots. Great condition...</td>\n",
       "    </tr>\n",
       "    <tr>\n",
       "      <th>15</th>\n",
       "      <td>Brand new. Deluxe travel size products. Contai...</td>\n",
       "    </tr>\n",
       "    <tr>\n",
       "      <th>16</th>\n",
       "      <td>2 glitter eyeshadows; one in Brass and one in ...</td>\n",
       "    </tr>\n",
       "    <tr>\n",
       "      <th>17</th>\n",
       "      <td>Brand new in box Size: Medium Color: Coral Ret...</td>\n",
       "    </tr>\n",
       "    <tr>\n",
       "      <th>18</th>\n",
       "      <td>This AUTHENTIC pallete by Too Faced is brand n...</td>\n",
       "    </tr>\n",
       "    <tr>\n",
       "      <th>19</th>\n",
       "      <td>Fancy, dressy or casual! Dress it up or down 1...</td>\n",
       "    </tr>\n",
       "    <tr>\n",
       "      <th>20</th>\n",
       "      <td>Size 1. Worn once. Excellent condition</td>\n",
       "    </tr>\n",
       "    <tr>\n",
       "      <th>21</th>\n",
       "      <td>NWT Victoria's Secret ULTIMATE SPORT BRA -MAXI...</td>\n",
       "    </tr>\n",
       "    <tr>\n",
       "      <th>22</th>\n",
       "      <td>Reasonable offers welcomed. But if you ask \"lo...</td>\n",
       "    </tr>\n",
       "    <tr>\n",
       "      <th>23</th>\n",
       "      <td>Brand new never used All colors are available ...</td>\n",
       "    </tr>\n",
       "    <tr>\n",
       "      <th>24</th>\n",
       "      <td>lanascloset ~~~ description: never worn! ✨ i d...</td>\n",
       "    </tr>\n",
       "    <tr>\n",
       "      <th>25</th>\n",
       "      <td>They are 100 percent authentic. They are beate...</td>\n",
       "    </tr>\n",
       "    <tr>\n",
       "      <th>26</th>\n",
       "      <td>Brand new Otterbox Defender iPhone 6 Plus/6s Plus</td>\n",
       "    </tr>\n",
       "    <tr>\n",
       "      <th>27</th>\n",
       "      <td>Worn one time. Excellent condition</td>\n",
       "    </tr>\n",
       "    <tr>\n",
       "      <th>28</th>\n",
       "      <td>Beautiful Excellent condition Zips and ties in...</td>\n",
       "    </tr>\n",
       "    <tr>\n",
       "      <th>29</th>\n",
       "      <td>29w. X 33l. Social stretch hollister jeans ***...</td>\n",
       "    </tr>\n",
       "    <tr>\n",
       "      <th>...</th>\n",
       "      <td>...</td>\n",
       "    </tr>\n",
       "    <tr>\n",
       "      <th>1482505</th>\n",
       "      <td>great condition! a few signs of wear on the in...</td>\n",
       "    </tr>\n",
       "    <tr>\n",
       "      <th>1482506</th>\n",
       "      <td>Brand new sealed in box kitchen aid kitchenaid...</td>\n",
       "    </tr>\n",
       "    <tr>\n",
       "      <th>1482507</th>\n",
       "      <td>Just the game and the case. Lightly used.</td>\n",
       "    </tr>\n",
       "    <tr>\n",
       "      <th>1482508</th>\n",
       "      <td>New with tags</td>\n",
       "    </tr>\n",
       "    <tr>\n",
       "      <th>1482509</th>\n",
       "      <td>Fit bit charge 2, comes with box, charger pack...</td>\n",
       "    </tr>\n",
       "    <tr>\n",
       "      <th>1482510</th>\n",
       "      <td>Popsockets for all phone &amp; Tablet Add 1 clip m...</td>\n",
       "    </tr>\n",
       "    <tr>\n",
       "      <th>1482511</th>\n",
       "      <td>Brand: Bebe Beauty lip gloss, in color Icon. B...</td>\n",
       "    </tr>\n",
       "    <tr>\n",
       "      <th>1482512</th>\n",
       "      <td>NWOT - Blue - size 8</td>\n",
       "    </tr>\n",
       "    <tr>\n",
       "      <th>1482513</th>\n",
       "      <td>Yu-Gi-Oh Ultra Rare Single Card in NM conditio...</td>\n",
       "    </tr>\n",
       "    <tr>\n",
       "      <th>1482514</th>\n",
       "      <td>Leather Navy and creme polka dot With brown ac...</td>\n",
       "    </tr>\n",
       "    <tr>\n",
       "      <th>1482515</th>\n",
       "      <td>Size medium</td>\n",
       "    </tr>\n",
       "    <tr>\n",
       "      <th>1482516</th>\n",
       "      <td>Bath &amp; Body Works Scented Candle Vanilla Bloss...</td>\n",
       "    </tr>\n",
       "    <tr>\n",
       "      <th>1482517</th>\n",
       "      <td>To see all of the bras I have listed key in JB...</td>\n",
       "    </tr>\n",
       "    <tr>\n",
       "      <th>1482518</th>\n",
       "      <td>3 appear to be VTG. The pink one is Coro.</td>\n",
       "    </tr>\n",
       "    <tr>\n",
       "      <th>1482519</th>\n",
       "      <td>Brand new with tags, Victoria Secret logo thon...</td>\n",
       "    </tr>\n",
       "    <tr>\n",
       "      <th>1482520</th>\n",
       "      <td>Bundle of Baby Gap's First Favorites 3-6 month...</td>\n",
       "    </tr>\n",
       "    <tr>\n",
       "      <th>1482521</th>\n",
       "      <td>Brand new, never used.</td>\n",
       "    </tr>\n",
       "    <tr>\n",
       "      <th>1482522</th>\n",
       "      <td>Perfect Design for LG Tribute 5 / LG K7, NOT f...</td>\n",
       "    </tr>\n",
       "    <tr>\n",
       "      <th>1482523</th>\n",
       "      <td>Still more than half left in this! Color is or...</td>\n",
       "    </tr>\n",
       "    <tr>\n",
       "      <th>1482524</th>\n",
       "      <td>▪️NWOT ▪️Perfect Condition ▪️Barely been worn ...</td>\n",
       "    </tr>\n",
       "    <tr>\n",
       "      <th>1482525</th>\n",
       "      <td>Removable straps to make strapless Size: 34 B ...</td>\n",
       "    </tr>\n",
       "    <tr>\n",
       "      <th>1482526</th>\n",
       "      <td>Great Harry Potter Shirt! \"Hogwarts, School of...</td>\n",
       "    </tr>\n",
       "    <tr>\n",
       "      <th>1482527</th>\n",
       "      <td>Brand new black and white ribbed mock neck bod...</td>\n",
       "    </tr>\n",
       "    <tr>\n",
       "      <th>1482528</th>\n",
       "      <td>Purple and Paisley Victoria's Secret Tankini S...</td>\n",
       "    </tr>\n",
       "    <tr>\n",
       "      <th>1482529</th>\n",
       "      <td>[rm] for the set both in perfect condition no ...</td>\n",
       "    </tr>\n",
       "    <tr>\n",
       "      <th>1482530</th>\n",
       "      <td>Lace, says size small but fits medium perfectl...</td>\n",
       "    </tr>\n",
       "    <tr>\n",
       "      <th>1482531</th>\n",
       "      <td>Little mermaid handmade dress never worn size 2t</td>\n",
       "    </tr>\n",
       "    <tr>\n",
       "      <th>1482532</th>\n",
       "      <td>Used once or twice, still in great shape.</td>\n",
       "    </tr>\n",
       "    <tr>\n",
       "      <th>1482533</th>\n",
       "      <td>There is 2 of each one that you see! So 2 red ...</td>\n",
       "    </tr>\n",
       "    <tr>\n",
       "      <th>1482534</th>\n",
       "      <td>New with tag, red with sparkle. Firm price, no...</td>\n",
       "    </tr>\n",
       "  </tbody>\n",
       "</table>\n",
       "<p>1482535 rows × 1 columns</p>\n",
       "</div>"
      ],
      "text/plain": [
       "                                          item_description\n",
       "0                                       No description yet\n",
       "1        This keyboard is in great condition and works ...\n",
       "2        Adorable top with a hint of lace and a key hol...\n",
       "3        New with tags. Leather horses. Retail for [rm]...\n",
       "4                Complete with certificate of authenticity\n",
       "5        Banana republic bottoms, Candies skirt with ma...\n",
       "6        Size small but straps slightly shortened to fi...\n",
       "7        You get three pairs of Sophie cheer shorts siz...\n",
       "8         Girls Size small Plus green. Three shorts total.\n",
       "9        I realized his pants are on backwards after th...\n",
       "10            0.25 oz Full size is 1oz for [rm] in Sephora\n",
       "11       (5) new vs pink body mists (2.5 oz each) Fresh...\n",
       "12                                     Xl, great condition\n",
       "13                                      No description yet\n",
       "14       Authentic. Suede fringe boots. Great condition...\n",
       "15       Brand new. Deluxe travel size products. Contai...\n",
       "16       2 glitter eyeshadows; one in Brass and one in ...\n",
       "17       Brand new in box Size: Medium Color: Coral Ret...\n",
       "18       This AUTHENTIC pallete by Too Faced is brand n...\n",
       "19       Fancy, dressy or casual! Dress it up or down 1...\n",
       "20                  Size 1. Worn once. Excellent condition\n",
       "21       NWT Victoria's Secret ULTIMATE SPORT BRA -MAXI...\n",
       "22       Reasonable offers welcomed. But if you ask \"lo...\n",
       "23       Brand new never used All colors are available ...\n",
       "24       lanascloset ~~~ description: never worn! ✨ i d...\n",
       "25       They are 100 percent authentic. They are beate...\n",
       "26       Brand new Otterbox Defender iPhone 6 Plus/6s Plus\n",
       "27                      Worn one time. Excellent condition\n",
       "28       Beautiful Excellent condition Zips and ties in...\n",
       "29       29w. X 33l. Social stretch hollister jeans ***...\n",
       "...                                                    ...\n",
       "1482505  great condition! a few signs of wear on the in...\n",
       "1482506  Brand new sealed in box kitchen aid kitchenaid...\n",
       "1482507          Just the game and the case. Lightly used.\n",
       "1482508                                      New with tags\n",
       "1482509  Fit bit charge 2, comes with box, charger pack...\n",
       "1482510  Popsockets for all phone & Tablet Add 1 clip m...\n",
       "1482511  Brand: Bebe Beauty lip gloss, in color Icon. B...\n",
       "1482512                               NWOT - Blue - size 8\n",
       "1482513  Yu-Gi-Oh Ultra Rare Single Card in NM conditio...\n",
       "1482514  Leather Navy and creme polka dot With brown ac...\n",
       "1482515                                        Size medium\n",
       "1482516  Bath & Body Works Scented Candle Vanilla Bloss...\n",
       "1482517  To see all of the bras I have listed key in JB...\n",
       "1482518          3 appear to be VTG. The pink one is Coro.\n",
       "1482519  Brand new with tags, Victoria Secret logo thon...\n",
       "1482520  Bundle of Baby Gap's First Favorites 3-6 month...\n",
       "1482521                             Brand new, never used.\n",
       "1482522  Perfect Design for LG Tribute 5 / LG K7, NOT f...\n",
       "1482523  Still more than half left in this! Color is or...\n",
       "1482524  ▪️NWOT ▪️Perfect Condition ▪️Barely been worn ...\n",
       "1482525  Removable straps to make strapless Size: 34 B ...\n",
       "1482526  Great Harry Potter Shirt! \"Hogwarts, School of...\n",
       "1482527  Brand new black and white ribbed mock neck bod...\n",
       "1482528  Purple and Paisley Victoria's Secret Tankini S...\n",
       "1482529  [rm] for the set both in perfect condition no ...\n",
       "1482530  Lace, says size small but fits medium perfectl...\n",
       "1482531   Little mermaid handmade dress never worn size 2t\n",
       "1482532          Used once or twice, still in great shape.\n",
       "1482533  There is 2 of each one that you see! So 2 red ...\n",
       "1482534  New with tag, red with sparkle. Firm price, no...\n",
       "\n",
       "[1482535 rows x 1 columns]"
      ]
     },
     "execution_count": 14,
     "metadata": {},
     "output_type": "execute_result"
    }
   ],
   "source": []
  },
  {
   "cell_type": "code",
   "execution_count": null,
   "metadata": {},
   "outputs": [],
   "source": []
  }
 ],
 "metadata": {
  "kernelspec": {
   "display_name": "Python [conda env:py36]",
   "language": "python",
   "name": "conda-env-py36-py"
  },
  "language_info": {
   "codemirror_mode": {
    "name": "ipython",
    "version": 3
   },
   "file_extension": ".py",
   "mimetype": "text/x-python",
   "name": "python",
   "nbconvert_exporter": "python",
   "pygments_lexer": "ipython3",
   "version": "3.6.4"
  },
  "varInspector": {
   "cols": {
    "lenName": 16,
    "lenType": 16,
    "lenVar": 40
   },
   "kernels_config": {
    "python": {
     "delete_cmd_postfix": "",
     "delete_cmd_prefix": "del ",
     "library": "var_list.py",
     "varRefreshCmd": "print(var_dic_list())"
    },
    "r": {
     "delete_cmd_postfix": ") ",
     "delete_cmd_prefix": "rm(",
     "library": "var_list.r",
     "varRefreshCmd": "cat(var_dic_list()) "
    }
   },
   "types_to_exclude": [
    "module",
    "function",
    "builtin_function_or_method",
    "instance",
    "_Feature"
   ],
   "window_display": false
  }
 },
 "nbformat": 4,
 "nbformat_minor": 2
}
